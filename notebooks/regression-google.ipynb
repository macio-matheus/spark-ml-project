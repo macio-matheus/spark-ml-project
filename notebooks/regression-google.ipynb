{
 "cells": [
  {
   "cell_type": "markdown",
   "metadata": {},
   "source": [
    "## Projeto Big Data\n",
    "\n",
    "Julio Sales <br/>\n",
    "Mácio Matheus<br/>\n",
    "Victor Outtes"
   ]
  },
  {
   "cell_type": "code",
   "execution_count": 1,
   "metadata": {},
   "outputs": [],
   "source": [
    "import matplotlib.pyplot as plt\n",
    "%matplotlib inline"
   ]
  },
  {
   "cell_type": "markdown",
   "metadata": {},
   "source": [
    "### Inicializando o contexto e a sessão do Spark"
   ]
  },
  {
   "cell_type": "code",
   "execution_count": 2,
   "metadata": {},
   "outputs": [],
   "source": [
    "import findspark\n",
    "findspark.init()\n",
    "\n",
    "import pyspark\n",
    "sc = pyspark.SparkContext(appName=\"projeto\")\n",
    "\n",
    "from pyspark.conf import SparkConf\n",
    "session = pyspark.sql.SparkSession.builder.config(conf=SparkConf())\n",
    "spark = session.getOrCreate()\n",
    "\n",
    "from pyspark.sql.functions import monotonically_increasing_id"
   ]
  },
  {
   "cell_type": "markdown",
   "metadata": {},
   "source": [
    "### Leitura da base de dados que está no cluster Hadoop"
   ]
  },
  {
   "cell_type": "code",
   "execution_count": 3,
   "metadata": {},
   "outputs": [],
   "source": [
    "googleDf = spark.read.load('GOOG.csv', format='csv', inferSchema='true', header='true', sep=',')"
   ]
  },
  {
   "cell_type": "code",
   "execution_count": 4,
   "metadata": {
    "scrolled": true
   },
   "outputs": [
    {
     "name": "stdout",
     "output_type": "stream",
     "text": [
      "root\n",
      " |-- Date: timestamp (nullable = true)\n",
      " |-- Open: double (nullable = true)\n",
      " |-- High: double (nullable = true)\n",
      " |-- Low: double (nullable = true)\n",
      " |-- Close: double (nullable = true)\n",
      " |-- Adj Close: double (nullable = true)\n",
      " |-- Volume: integer (nullable = true)\n",
      "\n",
      "+-------+------------------+------------------+-----------------+-----------------+-----------------+-----------------+\n",
      "|summary|              Open|              High|              Low|            Close|        Adj Close|           Volume|\n",
      "+-------+------------------+------------------+-----------------+-----------------+-----------------+-----------------+\n",
      "|  count|              3492|              3492|             3492|             3492|             3492|             3492|\n",
      "|   mean|415.65481135652954| 419.3307963845929|411.6767180813292|415.5829676162661|415.5829676162661| 7711175.20045819|\n",
      "| stddev|  266.373176551548|268.19944818596525|264.5360595811659|266.5069796854434|266.5069796854434|8303339.430077713|\n",
      "|    min|         49.274517|         50.541279|        47.669952|        49.681866|        49.681866|             7900|\n",
      "|    max|       1177.329956|       1186.890015|       1171.97998|      1175.839966|      1175.839966|         82768100|\n",
      "+-------+------------------+------------------+-----------------+-----------------+-----------------+-----------------+\n",
      "\n"
     ]
    },
    {
     "data": {
      "text/plain": [
       "[<matplotlib.lines.Line2D at 0x7f98281e6a58>]"
      ]
     },
     "execution_count": 4,
     "metadata": {},
     "output_type": "execute_result"
    },
    {
     "data": {
      "image/png": "[encoded data removed]",
      "text/plain": [
       "<Figure size 432x288 with 1 Axes>"
      ]
     },
     "metadata": {},
     "output_type": "display_data"
    }
   ],
   "source": [
    "googleDf.printSchema()\n",
    "googleDf.describe().show()\n",
    "plt.plot([i[0] for i in googleDf.select('Date').collect()], [i[0] for i in googleDf.select('Close').collect()])"
   ]
  },
  {
   "cell_type": "markdown",
   "metadata": {},
   "source": [
    "### Criando uma view temporária com as colunas 'data', 'fechamento (d - 3)', 'fechamento (d - 2)', 'fechamento (d - 1)' e 'fechamento (d)', as que interessam para a predição\n",
    "\n",
    "<strong>View temporaria para D</strong>"
   ]
  },
  {
   "cell_type": "code",
   "execution_count": 5,
   "metadata": {},
   "outputs": [
    {
     "name": "stdout",
     "output_type": "stream",
     "text": [
      "Total de dias:  3489\n",
      "+---------+\n",
      "|        D|\n",
      "+---------+\n",
      "|52.096165|\n",
      "|52.657513|\n",
      "|53.606342|\n",
      "|52.732029|\n",
      "|50.675404|\n",
      "| 50.85424|\n",
      "| 49.80109|\n",
      "|50.427021|\n",
      "|49.681866|\n",
      "|50.461796|\n",
      "|50.819469|\n",
      "|50.824436|\n",
      "|52.324677|\n",
      "|53.402668|\n",
      "|55.384777|\n",
      "|55.638126|\n",
      "|56.616764|\n",
      "|58.365391|\n",
      "|59.294346|\n",
      "|58.539257|\n",
      "+---------+\n",
      "only showing top 20 rows\n",
      "\n"
     ]
    }
   ],
   "source": [
    "googleDf.createOrReplaceTempView('googleCloseView')\n",
    "googleCloseView = spark.sql('select Date, Close as D from googleCloseView where Date > \"2004-08-24\"').drop('Date')\n",
    "totalDias = googleCloseView.count()\n",
    "print('Total de dias: ', totalDias)\n",
    "googleCloseView.show()"
   ]
  },
  {
   "cell_type": "markdown",
   "metadata": {},
   "source": [
    "<strong>Criando outra view para capturar D-1</strong>"
   ]
  },
  {
   "cell_type": "code",
   "execution_count": 6,
   "metadata": {},
   "outputs": [
    {
     "name": "stdout",
     "output_type": "stream",
     "text": [
      "Total de dias:  3489\n",
      "+---------+\n",
      "|      D_1|\n",
      "+---------+\n",
      "|54.346527|\n",
      "|52.096165|\n",
      "|52.657513|\n",
      "|53.606342|\n",
      "|52.732029|\n",
      "|50.675404|\n",
      "| 50.85424|\n",
      "| 49.80109|\n",
      "|50.427021|\n",
      "|49.681866|\n",
      "|50.461796|\n",
      "|50.819469|\n",
      "|50.824436|\n",
      "|52.324677|\n",
      "|53.402668|\n",
      "|55.384777|\n",
      "|55.638126|\n",
      "|56.616764|\n",
      "|58.365391|\n",
      "|59.294346|\n",
      "+---------+\n",
      "only showing top 20 rows\n",
      "\n"
     ]
    }
   ],
   "source": [
    "googleDf.createOrReplaceTempView('googleCloseViewD_1')\n",
    "googleCloseViewD_1 = spark.sql('select Date, Close as D_1 from googleCloseViewD_1 where Date > \"2004-08-23\"').limit(totalDias).drop('Date')\n",
    "print('Total de dias: ', googleCloseViewD_1.count())\n",
    "googleCloseViewD_1.show()"
   ]
  },
  {
   "cell_type": "markdown",
   "metadata": {},
   "source": [
    "<strong>Criando outra view para capturar D-2</strong>"
   ]
  },
  {
   "cell_type": "code",
   "execution_count": 7,
   "metadata": {},
   "outputs": [
    {
     "name": "stdout",
     "output_type": "stream",
     "text": [
      "Total de dias:  3489\n",
      "+---------+\n",
      "|      D_2|\n",
      "+---------+\n",
      "| 53.80505|\n",
      "|54.346527|\n",
      "|52.096165|\n",
      "|52.657513|\n",
      "|53.606342|\n",
      "|52.732029|\n",
      "|50.675404|\n",
      "| 50.85424|\n",
      "| 49.80109|\n",
      "|50.427021|\n",
      "|49.681866|\n",
      "|50.461796|\n",
      "|50.819469|\n",
      "|50.824436|\n",
      "|52.324677|\n",
      "|53.402668|\n",
      "|55.384777|\n",
      "|55.638126|\n",
      "|56.616764|\n",
      "|58.365391|\n",
      "+---------+\n",
      "only showing top 20 rows\n",
      "\n"
     ]
    }
   ],
   "source": [
    "googleDf.createOrReplaceTempView('googleCloseViewD_2')\n",
    "googleCloseViewD_2 = spark.sql('select Date, Close as D_2 from googleCloseViewD_2 where Date > \"2004-08-20\"').limit(totalDias).drop('Date')\n",
    "print('Total de dias: ', googleCloseViewD_2.count())\n",
    "googleCloseViewD_2.show()"
   ]
  },
  {
   "cell_type": "markdown",
   "metadata": {},
   "source": [
    "<strong>Criando outra view para capturar D-3</strong>"
   ]
  },
  {
   "cell_type": "code",
   "execution_count": 8,
   "metadata": {
    "scrolled": false
   },
   "outputs": [
    {
     "name": "stdout",
     "output_type": "stream",
     "text": [
      "Total de dias:  3489\n",
      "+---------+\n",
      "|      D_3|\n",
      "+---------+\n",
      "|49.845802|\n",
      "| 53.80505|\n",
      "|54.346527|\n",
      "|52.096165|\n",
      "|52.657513|\n",
      "|53.606342|\n",
      "|52.732029|\n",
      "|50.675404|\n",
      "| 50.85424|\n",
      "| 49.80109|\n",
      "|50.427021|\n",
      "|49.681866|\n",
      "|50.461796|\n",
      "|50.819469|\n",
      "|50.824436|\n",
      "|52.324677|\n",
      "|53.402668|\n",
      "|55.384777|\n",
      "|55.638126|\n",
      "|56.616764|\n",
      "+---------+\n",
      "only showing top 20 rows\n",
      "\n"
     ]
    }
   ],
   "source": [
    "googleDf.createOrReplaceTempView('googleCloseViewD_3')\n",
    "googleCloseViewD_3 = spark.sql('select Date, Close as D_3 from googleCloseViewD_3 where Date > \"2004-08-19\"').limit(totalDias).drop('Date')\n",
    "print('Total de dias: ', googleCloseViewD_3.count())\n",
    "googleCloseViewD_3.show()"
   ]
  },
  {
   "cell_type": "markdown",
   "metadata": {},
   "source": [
    "<strong>Pegando as datas</strong>"
   ]
  },
  {
   "cell_type": "code",
   "execution_count": 9,
   "metadata": {},
   "outputs": [
    {
     "name": "stdout",
     "output_type": "stream",
     "text": [
      "Total de dias:  3489\n",
      "+-------------------+\n",
      "|               Date|\n",
      "+-------------------+\n",
      "|2004-08-24 00:00:00|\n",
      "|2004-08-25 00:00:00|\n",
      "|2004-08-26 00:00:00|\n",
      "|2004-08-27 00:00:00|\n",
      "|2004-08-30 00:00:00|\n",
      "|2004-08-31 00:00:00|\n",
      "|2004-09-01 00:00:00|\n",
      "|2004-09-02 00:00:00|\n",
      "|2004-09-03 00:00:00|\n",
      "|2004-09-07 00:00:00|\n",
      "|2004-09-08 00:00:00|\n",
      "|2004-09-09 00:00:00|\n",
      "|2004-09-10 00:00:00|\n",
      "|2004-09-13 00:00:00|\n",
      "|2004-09-14 00:00:00|\n",
      "|2004-09-15 00:00:00|\n",
      "|2004-09-16 00:00:00|\n",
      "|2004-09-17 00:00:00|\n",
      "|2004-09-20 00:00:00|\n",
      "|2004-09-21 00:00:00|\n",
      "+-------------------+\n",
      "only showing top 20 rows\n",
      "\n"
     ]
    }
   ],
   "source": [
    "googleDf.createOrReplaceTempView('googleCloseViewDates')\n",
    "googleCloseViewDates = spark.sql('select Date from googleCloseView where Date > \"2004-08-24\"')\n",
    "totalDias = googleCloseViewDates.count()\n",
    "print('Total de dias: ', totalDias)\n",
    "googleCloseViewDates.show()"
   ]
  },
  {
   "cell_type": "markdown",
   "metadata": {},
   "source": [
    "<strong>Fazendo JOIN de todas as views!</strong>"
   ]
  },
  {
   "cell_type": "code",
   "execution_count": 10,
   "metadata": {},
   "outputs": [],
   "source": [
    "googleCloseViewD_3 = googleCloseViewD_3.withColumn(\"id\", monotonically_increasing_id())\n",
    "googleCloseViewD_2 = googleCloseViewD_2.withColumn(\"id\", monotonically_increasing_id())\n",
    "googleCloseViewD_1 = googleCloseViewD_1.withColumn(\"id\", monotonically_increasing_id())\n",
    "googleCloseView = googleCloseView.withColumn(\"id\", monotonically_increasing_id())\n",
    "googleCloseViewDates = googleCloseViewDates.withColumn(\"id\", monotonically_increasing_id())"
   ]
  },
  {
   "cell_type": "code",
   "execution_count": 11,
   "metadata": {},
   "outputs": [
    {
     "name": "stdout",
     "output_type": "stream",
     "text": [
      "+-------------------+---------+---------+---------+---------+\n",
      "|               Date|      D_3|      D_2|      D_1|        D|\n",
      "+-------------------+---------+---------+---------+---------+\n",
      "|2004-08-24 00:00:00|49.845802| 53.80505|54.346527|52.096165|\n",
      "|2004-08-25 00:00:00| 53.80505|54.346527|52.096165|52.657513|\n",
      "|2004-08-26 00:00:00|54.346527|52.096165|52.657513|53.606342|\n",
      "|2004-08-27 00:00:00|52.096165|52.657513|53.606342|52.732029|\n",
      "|2004-08-30 00:00:00|52.657513|53.606342|52.732029|50.675404|\n",
      "|2004-08-31 00:00:00|53.606342|52.732029|50.675404| 50.85424|\n",
      "|2004-09-01 00:00:00|52.732029|50.675404| 50.85424| 49.80109|\n",
      "|2004-09-02 00:00:00|50.675404| 50.85424| 49.80109|50.427021|\n",
      "|2004-09-03 00:00:00| 50.85424| 49.80109|50.427021|49.681866|\n",
      "|2004-09-07 00:00:00| 49.80109|50.427021|49.681866|50.461796|\n",
      "|2004-09-08 00:00:00|50.427021|49.681866|50.461796|50.819469|\n",
      "|2004-09-09 00:00:00|49.681866|50.461796|50.819469|50.824436|\n",
      "|2004-09-10 00:00:00|50.461796|50.819469|50.824436|52.324677|\n",
      "|2004-09-13 00:00:00|50.819469|50.824436|52.324677|53.402668|\n",
      "|2004-09-14 00:00:00|50.824436|52.324677|53.402668|55.384777|\n",
      "|2004-09-15 00:00:00|52.324677|53.402668|55.384777|55.638126|\n",
      "|2004-09-16 00:00:00|53.402668|55.384777|55.638126|56.616764|\n",
      "|2004-09-17 00:00:00|55.384777|55.638126|56.616764|58.365391|\n",
      "|2004-09-20 00:00:00|55.638126|56.616764|58.365391|59.294346|\n",
      "|2004-09-21 00:00:00|56.616764|58.365391|59.294346|58.539257|\n",
      "+-------------------+---------+---------+---------+---------+\n",
      "only showing top 20 rows\n",
      "\n"
     ]
    }
   ],
   "source": [
    "googleJoined = googleCloseViewDates.join(googleCloseViewD_3, \"id\", \"outer\").join(googleCloseViewD_2, \"id\", \"outer\")\\\n",
    "    .join(googleCloseViewD_1, \"id\", \"outer\").join(googleCloseView, \"id\", \"outer\").drop(\"id\")\n",
    "googleJoinedSorted = googleJoined.orderBy('Date')\n",
    "googleJoinedSorted.show()"
   ]
  },
  {
   "cell_type": "code",
   "execution_count": null,
   "metadata": {},
   "outputs": [],
   "source": []
  },
  {
   "cell_type": "markdown",
   "metadata": {},
   "source": [
    "### Preparando a base para aplicar o modelo de regressão"
   ]
  },
  {
   "cell_type": "code",
   "execution_count": 14,
   "metadata": {},
   "outputs": [],
   "source": [
    "from pyspark.ml.feature import VectorAssembler"
   ]
  },
  {
   "cell_type": "code",
   "execution_count": 45,
   "metadata": {},
   "outputs": [
    {
     "name": "stdout",
     "output_type": "stream",
     "text": [
      "+-------------------+--------------------+---------+\n",
      "|               Date|            features|        D|\n",
      "+-------------------+--------------------+---------+\n",
      "|2004-08-24 00:00:00|[49.845802,53.805...|52.096165|\n",
      "|2004-08-25 00:00:00|[53.80505,54.3465...|52.657513|\n",
      "|2004-08-26 00:00:00|[54.346527,52.096...|53.606342|\n",
      "+-------------------+--------------------+---------+\n",
      "only showing top 3 rows\n",
      "\n"
     ]
    }
   ],
   "source": [
    "vectorAssembler = VectorAssembler(inputCols=['D_3','D_2','D_1'], outputCol='features')\n",
    "googleDataFrame = vectorAssembler.transform(googleJoinedSorted)\n",
    "googleDataFrame = googleDataFrame.select(['Date', 'features', 'D'])\n",
    "googleDataFrame.show(3)"
   ]
  },
  {
   "cell_type": "markdown",
   "metadata": {},
   "source": [
    "<strong>Separando a base de treinamento e teste</strong>"
   ]
  },
  {
   "cell_type": "code",
   "execution_count": 48,
   "metadata": {},
   "outputs": [
    {
     "name": "stdout",
     "output_type": "stream",
     "text": [
      "Tamanho da base de treinamento:  2432\n",
      "Tamanho da base de teste:  1057\n"
     ]
    }
   ],
   "source": [
    "splits = googleDataFrame.randomSplit([0.7, 0.3])\n",
    "trainDataFrame = splits[0]\n",
    "testDataFrame = splits[1]\n",
    "\n",
    "print('Tamanho da base de treinamento: ', trainDataFrame.count())\n",
    "print('Tamanho da base de teste: ', testDataFrame.count())"
   ]
  },
  {
   "cell_type": "markdown",
   "metadata": {},
   "source": [
    "<strong>Utilizando regressão linear</strong>\n",
    "\n",
    "<strong>Coeficientes:</strong> parâmetros que definem a reta (Y = a + b1x1 + b2x2 + b3x3) <br/>\n",
    "<strong>Intercepto:</strong> valor de intersecção da reta com o eixo Y (a)"
   ]
  },
  {
   "cell_type": "code",
   "execution_count": 18,
   "metadata": {},
   "outputs": [],
   "source": [
    "from pyspark.ml.regression import LinearRegression"
   ]
  },
  {
   "cell_type": "code",
   "execution_count": 19,
   "metadata": {},
   "outputs": [
    {
     "name": "stdout",
     "output_type": "stream",
     "text": [
      "Coeficientes:  [0.004957822422102755,0.15080801032317556,0.8437491094468569]\n",
      "Intercepto:  0.6678164762644825\n"
     ]
    }
   ],
   "source": [
    "linearRegression = LinearRegression(featuresCol='features', labelCol='D', maxIter=10, regParam=0.3, elasticNetParam=0.8)\n",
    "linearRegressionModel = linearRegression.fit(trainDataFrame)\n",
    "print('Coeficientes: ', str(linearRegressionModel.coefficients))\n",
    "print('Intercepto: ', str(linearRegressionModel.intercept))"
   ]
  },
  {
   "cell_type": "markdown",
   "metadata": {},
   "source": [
    "<strong>RMSE</strong> mede as diferenças entre os valores preditos e os reais.<br/>\n",
    "<strong>R^2 (coeficiente de determinação)</strong> indica o quanto o modelo consegue explicar os valores observados. Quanto maior melhor (valor entre 0 e 1)."
   ]
  },
  {
   "cell_type": "markdown",
   "metadata": {},
   "source": [
    "Observando o desempenho na base de teste:"
   ]
  },
  {
   "cell_type": "code",
   "execution_count": 50,
   "metadata": {},
   "outputs": [
    {
     "name": "stdout",
     "output_type": "stream",
     "text": [
      "+-------------------+------------------+---------+--------------------+\n",
      "|               Date|        prediction|        D|            features|\n",
      "+-------------------+------------------+---------+--------------------+\n",
      "|2004-08-30 00:00:00|53.505751360707556|50.675404|[52.657513,53.606...|\n",
      "|2004-09-02 00:00:00| 50.60790821834482|50.427021|[50.675404,50.854...|\n",
      "|2004-09-08 00:00:00| 50.98734348834972|50.819469|[50.427021,49.681...|\n",
      "|2004-09-14 00:00:00|   53.869229000915|55.384777|[50.824436,52.324...|\n",
      "|2004-09-20 00:00:00|58.727668633415455|59.294346|[55.638126,56.616...|\n",
      "+-------------------+------------------+---------+--------------------+\n",
      "only showing top 5 rows\n",
      "\n",
      "RMSE na base de teste:  7.682465208777845\n",
      "R2 na base de teste:  0.999159558751692\n"
     ]
    }
   ],
   "source": [
    "from pyspark.ml.evaluation import RegressionEvaluator\n",
    "\n",
    "predictions = linearRegressionModel.transform(testDataFrame)\n",
    "predictions.select(\"Date\", \"prediction\",\"D\",\"features\").show(5)\n",
    "\n",
    "evaluator = RegressionEvaluator(predictionCol='prediction', labelCol='D', metricName='rmse')\n",
    "print('RMSE na base de teste: ', evaluator.evaluate(predictions))\n",
    "\n",
    "evaluator = RegressionEvaluator(predictionCol='prediction', labelCol='D', metricName='r2')\n",
    "print('R2 na base de teste: ', evaluator.evaluate(predictions))"
   ]
  },
  {
   "cell_type": "markdown",
   "metadata": {},
   "source": [
    "### Analisando as previsões visualmente"
   ]
  },
  {
   "cell_type": "code",
   "execution_count": 52,
   "metadata": {
    "scrolled": false
   },
   "outputs": [
    {
     "data": {
      "text/plain": [
       "[<matplotlib.lines.Line2D at 0x7f98251a4978>]"
      ]
     },
     "execution_count": 52,
     "metadata": {},
     "output_type": "execute_result"
    },
    {
     "data": {
      "image/png": "[encoded data removed]",
      "text/plain": [
       "<Figure size 1440x720 with 1 Axes>"
      ]
     },
     "metadata": {},
     "output_type": "display_data"
    }
   ],
   "source": [
    "predictionsSorted = predictions.orderBy('Date')\n",
    "\n",
    "plt.figure(figsize=(20,10))\n",
    "plt.plot([i[0] for i in predictionsSorted.select('Date').collect()], \\\n",
    "         [i[0] for i in predictionsSorted.select('D').collect()], 'b-')\n",
    "plt.plot([i[0] for i in predictionsSorted.select('Date').collect()], \\\n",
    "         [i[0] for i in predictionsSorted.select('prediction').collect()], 'r.')"
   ]
  },
  {
   "cell_type": "code",
   "execution_count": null,
   "metadata": {},
   "outputs": [],
   "source": []
  }
 ],
 "metadata": {
  "kernelspec": {
   "display_name": "Python 3",
   "language": "python",
   "name": "python3"
  },
  "language_info": {
   "codemirror_mode": {
    "name": "ipython",
    "version": 3
   },
   "file_extension": ".py",
   "mimetype": "text/x-python",
   "name": "python",
   "nbconvert_exporter": "python",
   "pygments_lexer": "ipython3",
   "version": "3.4.2"
  }
 },
 "nbformat": 4,
 "nbformat_minor": 2
}
